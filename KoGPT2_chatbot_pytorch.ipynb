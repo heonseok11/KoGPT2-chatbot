{
  "cells": [
    {
      "cell_type": "code",
      "execution_count": null,
      "metadata": {
        "colab": {
          "base_uri": "https://localhost:8080/",
          "height": 364
        },
        "colab_type": "code",
        "id": "sOqL-ERxwMDz",
        "outputId": "736237e4-5772-4a0a-d628-eca21a883317"
      },
      "outputs": [],
      "source": [
        "# GPU 정보 \n",
        "!nvidia-smi"
      ]
    },
    {
      "cell_type": "code",
      "execution_count": null,
      "metadata": {
        "colab": {
          "base_uri": "https://localhost:8080/",
          "height": 208
        },
        "colab_type": "code",
        "id": "P8W3gZk2ijYN",
        "outputId": "bc4ee445-1bf3-4af2-c433-375634918c7c"
      },
      "outputs": [],
      "source": [
        "# KoGPT2-chatbot 소스 코드 복사\n",
        "!git clone --recurse-submodules https://github.com/heonseok11/KoGPT2-chatbot.git"
      ]
    },
    {
      "cell_type": "code",
      "execution_count": null,
      "metadata": {
        "colab": {
          "base_uri": "https://localhost:8080/",
          "height": 34
        },
        "colab_type": "code",
        "id": "e9ZweKmXiuaK",
        "outputId": "6cc6ce8b-105b-4f39-b865-22508865cf6c"
      },
      "outputs": [],
      "source": [
        "# 폴더 이동\n",
        "%cd KoGPT2-chatbot"
      ]
    },
    {
      "cell_type": "code",
      "execution_count": null,
      "metadata": {},
      "outputs": [],
      "source": [
        "!pip install -r requirements.txt"
      ]
    },
    {
      "cell_type": "code",
      "execution_count": null,
      "metadata": {
        "colab": {
          "base_uri": "https://localhost:8080/",
          "height": 732
        },
        "colab_type": "code",
        "id": "xKMZv-ZsiqkB",
        "outputId": "7cf55491-8fbd-4201-a849-9616b638d3d5"
      },
      "outputs": [],
      "source": [
        "# 사전훈련된 KoGPT2를 챗봇 데이터로 파인튜닝\n",
        "!CUDA_VISIBLE_DEVICES=0 python train_torch.py --train --gpus 1 --max_epochs 2"
      ]
    },
    {
      "cell_type": "code",
      "execution_count": null,
      "metadata": {
        "colab": {
          "base_uri": "https://localhost:8080/",
          "height": 330
        },
        "colab_type": "code",
        "id": "f3yDcidi6wFA",
        "outputId": "b66e761c-3731-4f82-ce8b-411a65a7363d"
      },
      "outputs": [],
      "source": [
        "# 대화 테스트, `quit`를 입력하면 대화를 종료합니다.\n",
        "!CUDA_VISIBLE_DEVICES=0 python train_torch.py --gpus 1 --chat"
      ]
    }
  ],
  "metadata": {
    "accelerator": "GPU",
    "colab": {
      "collapsed_sections": [],
      "name": "KoGPT2_chatbot_pytorch",
      "provenance": []
    },
    "kernelspec": {
      "display_name": "Python 3",
      "name": "python3"
    }
  },
  "nbformat": 4,
  "nbformat_minor": 0
}
